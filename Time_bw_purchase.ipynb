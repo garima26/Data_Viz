{
 "cells": [
  {
   "cell_type": "code",
   "execution_count": 2,
   "metadata": {
    "collapsed": false
   },
   "outputs": [
    {
     "name": "stdout",
     "output_type": "stream",
     "text": [
      "xdatadump userid='garimaj[an_rt_ws04]/Learning123@exa_usmacprdh_an' sqlstmt='select * from GJ_SHIS_EST_TIME3' delimiter=^ header=y > time_bw_pur.csv\n",
      "Import took 0 minutes and 9 seconds\n"
     ]
    },
    {
     "data": {
      "text/html": [
       "<div>\n",
       "<table border=\"1\" class=\"dataframe\">\n",
       "  <thead>\n",
       "    <tr style=\"text-align: right;\">\n",
       "      <th></th>\n",
       "      <th>FLAG</th>\n",
       "      <th>PRSN_ID</th>\n",
       "      <th>P1</th>\n",
       "      <th>P2</th>\n",
       "      <th>P3</th>\n",
       "      <th>P4</th>\n",
       "      <th>P5</th>\n",
       "      <th>DIFF21</th>\n",
       "      <th>DIFF32</th>\n",
       "      <th>DIFF43</th>\n",
       "      <th>DIFF54</th>\n",
       "    </tr>\n",
       "  </thead>\n",
       "  <tbody>\n",
       "    <tr>\n",
       "      <th>0</th>\n",
       "      <td>j1</td>\n",
       "      <td>192436693</td>\n",
       "      <td>2007-09-26 00:00:00</td>\n",
       "      <td>2007-11-24 00:00:00</td>\n",
       "      <td>2008-03-21 00:00:00</td>\n",
       "      <td>2008-03-25 00:00:00</td>\n",
       "      <td>2009-05-09 00:00:00</td>\n",
       "      <td>59</td>\n",
       "      <td>118.0</td>\n",
       "      <td>4.0</td>\n",
       "      <td>410.0</td>\n",
       "    </tr>\n",
       "    <tr>\n",
       "      <th>1</th>\n",
       "      <td>j1</td>\n",
       "      <td>273242847</td>\n",
       "      <td>2010-05-01 00:00:00</td>\n",
       "      <td>2011-04-21 00:00:00</td>\n",
       "      <td>2012-08-31 00:00:00</td>\n",
       "      <td>2012-10-17 00:00:00</td>\n",
       "      <td>2013-04-26 00:00:00</td>\n",
       "      <td>355</td>\n",
       "      <td>498.0</td>\n",
       "      <td>47.0</td>\n",
       "      <td>191.0</td>\n",
       "    </tr>\n",
       "    <tr>\n",
       "      <th>2</th>\n",
       "      <td>j1</td>\n",
       "      <td>1699812483</td>\n",
       "      <td>2014-04-15 00:00:00</td>\n",
       "      <td>2014-04-17 00:00:00</td>\n",
       "      <td>2014-04-25 00:00:00</td>\n",
       "      <td>2014-06-05 00:00:00</td>\n",
       "      <td>2014-10-21 00:00:00</td>\n",
       "      <td>2</td>\n",
       "      <td>8.0</td>\n",
       "      <td>41.0</td>\n",
       "      <td>138.0</td>\n",
       "    </tr>\n",
       "    <tr>\n",
       "      <th>3</th>\n",
       "      <td>j2</td>\n",
       "      <td>162243913</td>\n",
       "      <td>2009-12-22 00:00:00</td>\n",
       "      <td>2014-07-27 00:00:00</td>\n",
       "      <td>2014-08-12 00:00:00</td>\n",
       "      <td>2015-07-04 00:00:00</td>\n",
       "      <td>2015-09-03 00:00:00</td>\n",
       "      <td>1678</td>\n",
       "      <td>16.0</td>\n",
       "      <td>326.0</td>\n",
       "      <td>61.0</td>\n",
       "    </tr>\n",
       "    <tr>\n",
       "      <th>4</th>\n",
       "      <td>j2</td>\n",
       "      <td>276719059</td>\n",
       "      <td>2014-09-09 00:00:00</td>\n",
       "      <td>2015-03-04 00:00:00</td>\n",
       "      <td>2015-06-08 00:00:00</td>\n",
       "      <td>2015-09-28 00:00:00</td>\n",
       "      <td>2015-10-07 00:00:00</td>\n",
       "      <td>176</td>\n",
       "      <td>96.0</td>\n",
       "      <td>112.0</td>\n",
       "      <td>9.0</td>\n",
       "    </tr>\n",
       "  </tbody>\n",
       "</table>\n",
       "</div>"
      ],
      "text/plain": [
       "  FLAG     PRSN_ID                   P1                   P2  \\\n",
       "0   j1   192436693  2007-09-26 00:00:00  2007-11-24 00:00:00   \n",
       "1   j1   273242847  2010-05-01 00:00:00  2011-04-21 00:00:00   \n",
       "2   j1  1699812483  2014-04-15 00:00:00  2014-04-17 00:00:00   \n",
       "3   j2   162243913  2009-12-22 00:00:00  2014-07-27 00:00:00   \n",
       "4   j2   276719059  2014-09-09 00:00:00  2015-03-04 00:00:00   \n",
       "\n",
       "                    P3                   P4                   P5  DIFF21  \\\n",
       "0  2008-03-21 00:00:00  2008-03-25 00:00:00  2009-05-09 00:00:00      59   \n",
       "1  2012-08-31 00:00:00  2012-10-17 00:00:00  2013-04-26 00:00:00     355   \n",
       "2  2014-04-25 00:00:00  2014-06-05 00:00:00  2014-10-21 00:00:00       2   \n",
       "3  2014-08-12 00:00:00  2015-07-04 00:00:00  2015-09-03 00:00:00    1678   \n",
       "4  2015-06-08 00:00:00  2015-09-28 00:00:00  2015-10-07 00:00:00     176   \n",
       "\n",
       "   DIFF32  DIFF43  DIFF54  \n",
       "0   118.0     4.0   410.0  \n",
       "1   498.0    47.0   191.0  \n",
       "2     8.0    41.0   138.0  \n",
       "3    16.0   326.0    61.0  \n",
       "4    96.0   112.0     9.0  "
      ]
     },
     "execution_count": 2,
     "metadata": {},
     "output_type": "execute_result"
    }
   ],
   "source": [
    "#XDataDump - will not run in Python 3\n",
    "from time import time\n",
    "import pandas as pd\n",
    "import numpy as np\n",
    "from matplotlib import pyplot as plt\n",
    "import seaborn as sns\n",
    "\n",
    "%matplotlib inline\n",
    "\n",
    "start_time = time()\n",
    "\n",
    "import subprocess\n",
    "import os\n",
    "from urllib import quote_plus as urlquote\n",
    "\n",
    "proxy = \"garimaj[an_rt_ws04]/Learning123@exa_usmacprdh_an\"\n",
    "\n",
    "cmd_str =   \"xdatadump userid='\" + str(proxy) \\\n",
    "                + \"' sqlstmt='select * from GJ_SHIS_EST_TIME3\" \\\n",
    "                +  \"' delimiter=^ header=y > time_bw_pur.csv\"        \n",
    "\n",
    "print(cmd_str)\n",
    "subprocess.call(cmd_str, cwd='./', shell=True)\n",
    "\n",
    "end_time = time()\n",
    "time_taken = end_time - start_time # time_taken is in seconds\n",
    "minutes, seconds = divmod(time_taken, 60)\n",
    "print(\"Import took %d minutes and %d seconds\" %(minutes, seconds) )\n",
    "\n",
    "tdata = pd.read_csv('time_bw_pur.csv',header=0, delimiter=\"^\")\n",
    "tdata.head()"
   ]
  },
  {
   "cell_type": "code",
   "execution_count": 11,
   "metadata": {
    "collapsed": false
   },
   "outputs": [
    {
     "data": {
      "text/plain": [
       "<matplotlib.axes._subplots.AxesSubplot at 0x62a19d50>"
      ]
     },
     "execution_count": 11,
     "metadata": {},
     "output_type": "execute_result"
    },
    {
     "data": {
      "image/png": "[encoded data removed]",
      "text/plain": [
       "<matplotlib.figure.Figure at 0x6e79f10>"
      ]
     },
     "metadata": {},
     "output_type": "display_data"
    }
   ],
   "source": [
    "tdata.ix[tdata.FLAG=='j1',7].plot(kind='hist', title='j1-dif21')"
   ]
  },
  {
   "cell_type": "code",
   "execution_count": 19,
   "metadata": {
    "collapsed": false
   },
   "outputs": [
    {
     "data": {
      "text/plain": [
       "2629"
      ]
     },
     "execution_count": 19,
     "metadata": {},
     "output_type": "execute_result"
    }
   ],
   "source": [
    "tdata.ix[tdata.FLAG=='j1',7].max()"
   ]
  },
  {
   "cell_type": "code",
   "execution_count": 20,
   "metadata": {
    "collapsed": false
   },
   "outputs": [
    {
     "data": {
      "text/plain": [
       "<matplotlib.text.Text at 0x86644f10>"
      ]
     },
     "execution_count": 20,
     "metadata": {},
     "output_type": "execute_result"
    },
    {
     "data": {
      "image/png": "[encoded data removed]",
      "text/plain": [
       "<matplotlib.figure.Figure at 0x58984fd0>"
      ]
     },
     "metadata": {},
     "output_type": "display_data"
    }
   ],
   "source": [
    "#Quarterly\n",
    "sns.distplot(tdata.ix[tdata.FLAG=='j1',7], bins=29, kde=False, rug=True)  # bins 7 means 2629/7= 378 days: 29 bins> quarter: 88>mn\n",
    "\n",
    "plt.title(\"j1-dif21\", fontsize=16, fontweight='bold')"
   ]
  },
  {
   "cell_type": "code",
   "execution_count": 21,
   "metadata": {
    "collapsed": false
   },
   "outputs": [
    {
     "data": {
      "text/plain": [
       "<matplotlib.text.Text at 0x95a23a10>"
      ]
     },
     "execution_count": 21,
     "metadata": {},
     "output_type": "execute_result"
    },
    {
     "data": {
      "image/png": "[encoded data removed]",
      "text/plain": [
       "<matplotlib.figure.Figure at 0x5e3d4290>"
      ]
     },
     "metadata": {},
     "output_type": "display_data"
    }
   ],
   "source": [
    "#Yearly\n",
    "sns.distplot(tdata.ix[tdata.FLAG=='j1',7], bins=7, kde=False, rug=True)  # bins 7 means 2629/7= 378 days: 29 bins> quarter\n",
    "\n",
    "plt.title(\"j1-dif21\", fontsize=16, fontweight='bold')"
   ]
  },
  {
   "cell_type": "code",
   "execution_count": 22,
   "metadata": {
    "collapsed": false
   },
   "outputs": [
    {
     "data": {
      "text/plain": [
       "<matplotlib.text.Text at 0xa4e12b10>"
      ]
     },
     "execution_count": 22,
     "metadata": {},
     "output_type": "execute_result"
    },
    {
     "data": {
      "image/png": "[encoded data removed]",
      "text/plain": [
       "<matplotlib.figure.Figure at 0x6091ccd0>"
      ]
     },
     "metadata": {},
     "output_type": "display_data"
    }
   ],
   "source": [
    "#Monthly\n",
    "sns.distplot(tdata.ix[tdata.FLAG=='j1',7], bins=88, kde=False, rug=True)  # bins 7 means 2629/7= 378 days: 29 bins> quarter\n",
    "\n",
    "plt.title(\"j1-dif21\", fontsize=16, fontweight='bold')"
   ]
  },
  {
   "cell_type": "code",
   "execution_count": 31,
   "metadata": {
    "collapsed": false
   },
   "outputs": [
    {
     "data": {
      "text/html": [
       "<div>\n",
       "<table border=\"1\" class=\"dataframe\">\n",
       "  <thead>\n",
       "    <tr style=\"text-align: right;\">\n",
       "      <th></th>\n",
       "      <th>count</th>\n",
       "      <th>mean</th>\n",
       "      <th>std</th>\n",
       "      <th>min</th>\n",
       "      <th>25%</th>\n",
       "      <th>50%</th>\n",
       "      <th>75%</th>\n",
       "      <th>max</th>\n",
       "    </tr>\n",
       "  </thead>\n",
       "  <tbody>\n",
       "    <tr>\n",
       "      <th>DIFF21</th>\n",
       "      <td>7406.0</td>\n",
       "      <td>241.072239</td>\n",
       "      <td>350.817546</td>\n",
       "      <td>1.0</td>\n",
       "      <td>43.0</td>\n",
       "      <td>120.0</td>\n",
       "      <td>282.00</td>\n",
       "      <td>2629.0</td>\n",
       "    </tr>\n",
       "    <tr>\n",
       "      <th>DIFF32</th>\n",
       "      <td>7403.0</td>\n",
       "      <td>185.096718</td>\n",
       "      <td>251.667245</td>\n",
       "      <td>1.0</td>\n",
       "      <td>41.0</td>\n",
       "      <td>107.0</td>\n",
       "      <td>224.00</td>\n",
       "      <td>2629.0</td>\n",
       "    </tr>\n",
       "    <tr>\n",
       "      <th>DIFF43</th>\n",
       "      <td>7356.0</td>\n",
       "      <td>159.059679</td>\n",
       "      <td>204.320134</td>\n",
       "      <td>1.0</td>\n",
       "      <td>36.0</td>\n",
       "      <td>97.0</td>\n",
       "      <td>196.25</td>\n",
       "      <td>2479.0</td>\n",
       "    </tr>\n",
       "    <tr>\n",
       "      <th>DIFF54</th>\n",
       "      <td>7220.0</td>\n",
       "      <td>150.095568</td>\n",
       "      <td>193.986435</td>\n",
       "      <td>1.0</td>\n",
       "      <td>35.0</td>\n",
       "      <td>93.0</td>\n",
       "      <td>188.00</td>\n",
       "      <td>2379.0</td>\n",
       "    </tr>\n",
       "  </tbody>\n",
       "</table>\n",
       "</div>"
      ],
      "text/plain": [
       "         count        mean         std  min   25%    50%     75%     max\n",
       "DIFF21  7406.0  241.072239  350.817546  1.0  43.0  120.0  282.00  2629.0\n",
       "DIFF32  7403.0  185.096718  251.667245  1.0  41.0  107.0  224.00  2629.0\n",
       "DIFF43  7356.0  159.059679  204.320134  1.0  36.0   97.0  196.25  2479.0\n",
       "DIFF54  7220.0  150.095568  193.986435  1.0  35.0   93.0  188.00  2379.0"
      ]
     },
     "execution_count": 31,
     "metadata": {},
     "output_type": "execute_result"
    }
   ],
   "source": [
    "tdata.ix[tdata.FLAG=='j1',2:].describe().transpose()\n",
    "\n",
    "#max time taken for 2nd visit and then the gap reduces!"
   ]
  },
  {
   "cell_type": "code",
   "execution_count": 32,
   "metadata": {
    "collapsed": false
   },
   "outputs": [
    {
     "data": {
      "text/html": [
       "<div>\n",
       "<table border=\"1\" class=\"dataframe\">\n",
       "  <thead>\n",
       "    <tr style=\"text-align: right;\">\n",
       "      <th></th>\n",
       "      <th>count</th>\n",
       "      <th>mean</th>\n",
       "      <th>std</th>\n",
       "      <th>min</th>\n",
       "      <th>25%</th>\n",
       "      <th>50%</th>\n",
       "      <th>75%</th>\n",
       "      <th>max</th>\n",
       "    </tr>\n",
       "  </thead>\n",
       "  <tbody>\n",
       "    <tr>\n",
       "      <th>DIFF21</th>\n",
       "      <td>18191.0</td>\n",
       "      <td>245.491892</td>\n",
       "      <td>349.753551</td>\n",
       "      <td>1.0</td>\n",
       "      <td>49.0</td>\n",
       "      <td>126.0</td>\n",
       "      <td>287.0</td>\n",
       "      <td>2722.0</td>\n",
       "    </tr>\n",
       "    <tr>\n",
       "      <th>DIFF32</th>\n",
       "      <td>18191.0</td>\n",
       "      <td>190.768017</td>\n",
       "      <td>260.398256</td>\n",
       "      <td>1.0</td>\n",
       "      <td>45.0</td>\n",
       "      <td>110.0</td>\n",
       "      <td>223.0</td>\n",
       "      <td>2642.0</td>\n",
       "    </tr>\n",
       "    <tr>\n",
       "      <th>DIFF43</th>\n",
       "      <td>18094.0</td>\n",
       "      <td>163.317730</td>\n",
       "      <td>206.998207</td>\n",
       "      <td>1.0</td>\n",
       "      <td>43.0</td>\n",
       "      <td>104.0</td>\n",
       "      <td>198.0</td>\n",
       "      <td>2380.0</td>\n",
       "    </tr>\n",
       "    <tr>\n",
       "      <th>DIFF54</th>\n",
       "      <td>17811.0</td>\n",
       "      <td>148.501825</td>\n",
       "      <td>176.706350</td>\n",
       "      <td>1.0</td>\n",
       "      <td>42.0</td>\n",
       "      <td>98.0</td>\n",
       "      <td>188.0</td>\n",
       "      <td>2091.0</td>\n",
       "    </tr>\n",
       "  </tbody>\n",
       "</table>\n",
       "</div>"
      ],
      "text/plain": [
       "          count        mean         std  min   25%    50%    75%     max\n",
       "DIFF21  18191.0  245.491892  349.753551  1.0  49.0  126.0  287.0  2722.0\n",
       "DIFF32  18191.0  190.768017  260.398256  1.0  45.0  110.0  223.0  2642.0\n",
       "DIFF43  18094.0  163.317730  206.998207  1.0  43.0  104.0  198.0  2380.0\n",
       "DIFF54  17811.0  148.501825  176.706350  1.0  42.0   98.0  188.0  2091.0"
      ]
     },
     "execution_count": 32,
     "metadata": {},
     "output_type": "execute_result"
    }
   ],
   "source": [
    "tdata.ix[tdata.FLAG=='j2',2:].describe().transpose()"
   ]
  },
  {
   "cell_type": "code",
   "execution_count": 33,
   "metadata": {
    "collapsed": false
   },
   "outputs": [
    {
     "data": {
      "text/html": [
       "<div>\n",
       "<table border=\"1\" class=\"dataframe\">\n",
       "  <thead>\n",
       "    <tr style=\"text-align: right;\">\n",
       "      <th></th>\n",
       "      <th>count</th>\n",
       "      <th>mean</th>\n",
       "      <th>std</th>\n",
       "      <th>min</th>\n",
       "      <th>25%</th>\n",
       "      <th>50%</th>\n",
       "      <th>75%</th>\n",
       "      <th>max</th>\n",
       "    </tr>\n",
       "  </thead>\n",
       "  <tbody>\n",
       "    <tr>\n",
       "      <th>DIFF21</th>\n",
       "      <td>7627.0</td>\n",
       "      <td>225.643897</td>\n",
       "      <td>341.604625</td>\n",
       "      <td>1.0</td>\n",
       "      <td>37.0</td>\n",
       "      <td>105.0</td>\n",
       "      <td>256.0</td>\n",
       "      <td>2728.0</td>\n",
       "    </tr>\n",
       "    <tr>\n",
       "      <th>DIFF32</th>\n",
       "      <td>7627.0</td>\n",
       "      <td>171.128229</td>\n",
       "      <td>245.417181</td>\n",
       "      <td>1.0</td>\n",
       "      <td>35.0</td>\n",
       "      <td>91.0</td>\n",
       "      <td>204.0</td>\n",
       "      <td>2393.0</td>\n",
       "    </tr>\n",
       "    <tr>\n",
       "      <th>DIFF43</th>\n",
       "      <td>7593.0</td>\n",
       "      <td>147.273146</td>\n",
       "      <td>205.412089</td>\n",
       "      <td>1.0</td>\n",
       "      <td>30.0</td>\n",
       "      <td>84.0</td>\n",
       "      <td>182.0</td>\n",
       "      <td>2260.0</td>\n",
       "    </tr>\n",
       "    <tr>\n",
       "      <th>DIFF54</th>\n",
       "      <td>7506.0</td>\n",
       "      <td>135.933786</td>\n",
       "      <td>185.061363</td>\n",
       "      <td>1.0</td>\n",
       "      <td>30.0</td>\n",
       "      <td>80.0</td>\n",
       "      <td>168.0</td>\n",
       "      <td>2417.0</td>\n",
       "    </tr>\n",
       "  </tbody>\n",
       "</table>\n",
       "</div>"
      ],
      "text/plain": [
       "         count        mean         std  min   25%    50%    75%     max\n",
       "DIFF21  7627.0  225.643897  341.604625  1.0  37.0  105.0  256.0  2728.0\n",
       "DIFF32  7627.0  171.128229  245.417181  1.0  35.0   91.0  204.0  2393.0\n",
       "DIFF43  7593.0  147.273146  205.412089  1.0  30.0   84.0  182.0  2260.0\n",
       "DIFF54  7506.0  135.933786  185.061363  1.0  30.0   80.0  168.0  2417.0"
      ]
     },
     "execution_count": 33,
     "metadata": {},
     "output_type": "execute_result"
    }
   ],
   "source": [
    "tdata.ix[tdata.FLAG=='j3',2:].describe().transpose()"
   ]
  },
  {
   "cell_type": "code",
   "execution_count": 34,
   "metadata": {
    "collapsed": false
   },
   "outputs": [
    {
     "data": {
      "text/html": [
       "<div>\n",
       "<table border=\"1\" class=\"dataframe\">\n",
       "  <thead>\n",
       "    <tr style=\"text-align: right;\">\n",
       "      <th></th>\n",
       "      <th>count</th>\n",
       "      <th>mean</th>\n",
       "      <th>std</th>\n",
       "      <th>min</th>\n",
       "      <th>25%</th>\n",
       "      <th>50%</th>\n",
       "      <th>75%</th>\n",
       "      <th>max</th>\n",
       "    </tr>\n",
       "  </thead>\n",
       "  <tbody>\n",
       "    <tr>\n",
       "      <th>DIFF21</th>\n",
       "      <td>8680.0</td>\n",
       "      <td>245.319585</td>\n",
       "      <td>343.082866</td>\n",
       "      <td>1.0</td>\n",
       "      <td>50.0</td>\n",
       "      <td>124.0</td>\n",
       "      <td>295.0</td>\n",
       "      <td>2766.0</td>\n",
       "    </tr>\n",
       "    <tr>\n",
       "      <th>DIFF32</th>\n",
       "      <td>8680.0</td>\n",
       "      <td>192.500576</td>\n",
       "      <td>261.176969</td>\n",
       "      <td>1.0</td>\n",
       "      <td>47.0</td>\n",
       "      <td>109.0</td>\n",
       "      <td>231.0</td>\n",
       "      <td>2587.0</td>\n",
       "    </tr>\n",
       "    <tr>\n",
       "      <th>DIFF43</th>\n",
       "      <td>8622.0</td>\n",
       "      <td>163.957087</td>\n",
       "      <td>213.338785</td>\n",
       "      <td>1.0</td>\n",
       "      <td>42.0</td>\n",
       "      <td>99.0</td>\n",
       "      <td>200.0</td>\n",
       "      <td>2339.0</td>\n",
       "    </tr>\n",
       "    <tr>\n",
       "      <th>DIFF54</th>\n",
       "      <td>8496.0</td>\n",
       "      <td>151.343809</td>\n",
       "      <td>189.863857</td>\n",
       "      <td>1.0</td>\n",
       "      <td>41.0</td>\n",
       "      <td>95.0</td>\n",
       "      <td>189.0</td>\n",
       "      <td>2139.0</td>\n",
       "    </tr>\n",
       "  </tbody>\n",
       "</table>\n",
       "</div>"
      ],
      "text/plain": [
       "         count        mean         std  min   25%    50%    75%     max\n",
       "DIFF21  8680.0  245.319585  343.082866  1.0  50.0  124.0  295.0  2766.0\n",
       "DIFF32  8680.0  192.500576  261.176969  1.0  47.0  109.0  231.0  2587.0\n",
       "DIFF43  8622.0  163.957087  213.338785  1.0  42.0   99.0  200.0  2339.0\n",
       "DIFF54  8496.0  151.343809  189.863857  1.0  41.0   95.0  189.0  2139.0"
      ]
     },
     "execution_count": 34,
     "metadata": {},
     "output_type": "execute_result"
    }
   ],
   "source": [
    "tdata.ix[tdata.FLAG=='j4',2:].describe().transpose()"
   ]
  },
  {
   "cell_type": "code",
   "execution_count": 35,
   "metadata": {
    "collapsed": false
   },
   "outputs": [
    {
     "data": {
      "text/html": [
       "<div>\n",
       "<table border=\"1\" class=\"dataframe\">\n",
       "  <thead>\n",
       "    <tr style=\"text-align: right;\">\n",
       "      <th></th>\n",
       "      <th>count</th>\n",
       "      <th>mean</th>\n",
       "      <th>std</th>\n",
       "      <th>min</th>\n",
       "      <th>25%</th>\n",
       "      <th>50%</th>\n",
       "      <th>75%</th>\n",
       "      <th>max</th>\n",
       "    </tr>\n",
       "  </thead>\n",
       "  <tbody>\n",
       "    <tr>\n",
       "      <th>DIFF21</th>\n",
       "      <td>3444.0</td>\n",
       "      <td>196.976771</td>\n",
       "      <td>289.321191</td>\n",
       "      <td>1.0</td>\n",
       "      <td>42.0</td>\n",
       "      <td>103.0</td>\n",
       "      <td>222.0</td>\n",
       "      <td>2552.0</td>\n",
       "    </tr>\n",
       "    <tr>\n",
       "      <th>DIFF32</th>\n",
       "      <td>3444.0</td>\n",
       "      <td>175.072880</td>\n",
       "      <td>261.346825</td>\n",
       "      <td>1.0</td>\n",
       "      <td>37.0</td>\n",
       "      <td>93.0</td>\n",
       "      <td>198.0</td>\n",
       "      <td>2650.0</td>\n",
       "    </tr>\n",
       "    <tr>\n",
       "      <th>DIFF43</th>\n",
       "      <td>3437.0</td>\n",
       "      <td>159.352924</td>\n",
       "      <td>224.375551</td>\n",
       "      <td>1.0</td>\n",
       "      <td>40.0</td>\n",
       "      <td>90.0</td>\n",
       "      <td>185.0</td>\n",
       "      <td>2327.0</td>\n",
       "    </tr>\n",
       "    <tr>\n",
       "      <th>DIFF54</th>\n",
       "      <td>3420.0</td>\n",
       "      <td>145.716667</td>\n",
       "      <td>202.042819</td>\n",
       "      <td>1.0</td>\n",
       "      <td>37.0</td>\n",
       "      <td>87.0</td>\n",
       "      <td>177.0</td>\n",
       "      <td>2438.0</td>\n",
       "    </tr>\n",
       "  </tbody>\n",
       "</table>\n",
       "</div>"
      ],
      "text/plain": [
       "         count        mean         std  min   25%    50%    75%     max\n",
       "DIFF21  3444.0  196.976771  289.321191  1.0  42.0  103.0  222.0  2552.0\n",
       "DIFF32  3444.0  175.072880  261.346825  1.0  37.0   93.0  198.0  2650.0\n",
       "DIFF43  3437.0  159.352924  224.375551  1.0  40.0   90.0  185.0  2327.0\n",
       "DIFF54  3420.0  145.716667  202.042819  1.0  37.0   87.0  177.0  2438.0"
      ]
     },
     "execution_count": 35,
     "metadata": {},
     "output_type": "execute_result"
    }
   ],
   "source": [
    "tdata.ix[tdata.FLAG=='j5',2:].describe().transpose()"
   ]
  }
 ],
 "metadata": {
  "kernelspec": {
   "display_name": "Python 2",
   "language": "python",
   "name": "python2"
  },
  "language_info": {
   "codemirror_mode": {
    "name": "ipython",
    "version": 2
   },
   "file_extension": ".py",
   "mimetype": "text/x-python",
   "name": "python",
   "nbconvert_exporter": "python",
   "pygments_lexer": "ipython2",
   "version": "2.7.5"
  }
 },
 "nbformat": 4,
 "nbformat_minor": 2
}
